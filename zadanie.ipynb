{
 "cells": [
  {
   "cell_type": "code",
   "execution_count": 1,
   "id": "42a75ffb",
   "metadata": {},
   "outputs": [],
   "source": [
    "from scipy import stats"
   ]
  },
  {
   "cell_type": "code",
   "execution_count": 3,
   "id": "8a4b2f90",
   "metadata": {},
   "outputs": [
    {
     "name": "stdout",
     "output_type": "stream",
     "text": [
      "[ 90.72183116  87.89674388  83.81103697  94.70685719  93.40937757\n",
      "  81.6234883  114.69067583  91.15414879  97.36399635  87.30222167\n",
      "  86.70574223  65.54347707  80.95045442  99.26646304 100.61538722\n",
      "  96.79114637 102.21161542  83.4237674   85.34592896  66.1716214 ]\n"
     ]
    }
   ],
   "source": [
    "vid1 = stats.norm.rvs(loc=89.9, scale=11.3, size=20)\n",
    "print(vid1)"
   ]
  },
  {
   "cell_type": "code",
   "execution_count": 4,
   "id": "fe693dc9",
   "metadata": {},
   "outputs": [
    {
     "name": "stdout",
     "output_type": "stream",
     "text": [
      "[49.66822608 63.53613133 72.29496701 91.62583608 74.52403476 95.97843402\n",
      " 75.04590419 88.78344235 75.30917293 87.51603206 57.9078387  83.65991158\n",
      " 94.61117196 96.14536053 75.70908849 82.23830333 83.73049485 72.14317578\n",
      " 99.9262653  69.97447815]\n"
     ]
    }
   ],
   "source": [
    "vid2 = stats.norm.rvs(loc=80.7, scale=11.7, size=20)\n",
    "print(vid2)"
   ]
  },
  {
   "cell_type": "code",
   "execution_count": 5,
   "id": "e6f75608",
   "metadata": {},
   "outputs": [
    {
     "name": "stdout",
     "output_type": "stream",
     "text": [
      "Ttest_indResult(statistic=2.51921817445921, pvalue=0.016087727351317645)\n"
     ]
    }
   ],
   "source": [
    "print(stats.ttest_ind(vid1, vid2))"
   ]
  },
  {
   "cell_type": "code",
   "execution_count": null,
   "id": "9ce02706",
   "metadata": {},
   "outputs": [],
   "source": []
  }
 ],
 "metadata": {
  "kernelspec": {
   "display_name": "Python 3",
   "language": "python",
   "name": "python3"
  },
  "language_info": {
   "codemirror_mode": {
    "name": "ipython",
    "version": 3
   },
   "file_extension": ".py",
   "mimetype": "text/x-python",
   "name": "python",
   "nbconvert_exporter": "python",
   "pygments_lexer": "ipython3",
   "version": "3.8.8"
  }
 },
 "nbformat": 4,
 "nbformat_minor": 5
}
