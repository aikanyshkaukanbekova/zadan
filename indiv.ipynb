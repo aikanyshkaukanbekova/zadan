{
 "cells": [
  {
   "cell_type": "code",
   "execution_count": 1,
   "id": "e1e323f9",
   "metadata": {},
   "outputs": [],
   "source": [
    "from scipy import stats"
   ]
  },
  {
   "cell_type": "code",
   "execution_count": 2,
   "id": "216cff33",
   "metadata": {},
   "outputs": [],
   "source": [
    "z1=[35,18,26,29,33,31,25,27,31,33]\n",
    "z2=[29,33,31,30,36,31,35,28,26,30,38]"
   ]
  },
  {
   "cell_type": "code",
   "execution_count": 3,
   "id": "8d71e4d8",
   "metadata": {},
   "outputs": [
    {
     "name": "stdout",
     "output_type": "stream",
     "text": [
      "Ttest_indResult(statistic=-1.450952588357811, pvalue=0.16310367492739508)\n"
     ]
    }
   ],
   "source": [
    "print(stats.ttest_ind(z1, z2))"
   ]
  },
  {
   "cell_type": "code",
   "execution_count": null,
   "id": "7c514274",
   "metadata": {},
   "outputs": [],
   "source": []
  }
 ],
 "metadata": {
  "kernelspec": {
   "display_name": "Python 3",
   "language": "python",
   "name": "python3"
  },
  "language_info": {
   "codemirror_mode": {
    "name": "ipython",
    "version": 3
   },
   "file_extension": ".py",
   "mimetype": "text/x-python",
   "name": "python",
   "nbconvert_exporter": "python",
   "pygments_lexer": "ipython3",
   "version": "3.8.8"
  }
 },
 "nbformat": 4,
 "nbformat_minor": 5
}
